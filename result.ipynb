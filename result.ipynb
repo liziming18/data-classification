{
 "cells": [
  {
   "cell_type": "code",
   "execution_count": 2,
   "metadata": {},
   "outputs": [],
   "source": [
    "# copyright @ Ziming Li\n",
    "# version 1.0\n",
    "# This code is created alone by Ziming Li, a Ph.D student from Tsinghua University, China.\n",
    "# This code is for the final project of the my summer internship in Yunzhixin'an Technology Co., LTD, Zhengzhou, China.\n",
    "# If you have any questions, please contact me by email: lzm22@mails.tsinghua.edu.cn"
   ]
  },
  {
   "cell_type": "code",
   "execution_count": 73,
   "metadata": {},
   "outputs": [],
   "source": [
    "import torch\n",
    "import pickle\n",
    "import numpy as np\n",
    "import csv\n",
    "import copy"
   ]
  },
  {
   "cell_type": "code",
   "execution_count": 74,
   "metadata": {},
   "outputs": [],
   "source": [
    "# load the trained model\n",
    "device = torch.device(\"cuda\" if torch.cuda.is_available() else \"cpu\")\n",
    "\n",
    "trained_model = torch.load('./trained_model/checkpoint_run.pth')"
   ]
  },
  {
   "cell_type": "code",
   "execution_count": 75,
   "metadata": {},
   "outputs": [],
   "source": [
    "def predict_with_model(model, batched_data, device):\n",
    "    model.eval()\n",
    "    sent_data = batched_data\n",
    "\n",
    "    batch_size, seqlen, _ = sent_data.shape\n",
    "\n",
    "    now_state = torch.rand(batch_size, model.num_units)\n",
    "\n",
    "    probability_distribution = []\n",
    "    for i in range(seqlen):\n",
    "        incoming = sent_data[:, i]\n",
    "        incoming, now_state = model.cell(incoming, now_state)\n",
    "\n",
    "        logits = model.linear(incoming)\n",
    "        if i == seqlen - 1:\n",
    "            probability_distribution = logits\n",
    "\n",
    "    ans = torch.argmax(probability_distribution, dim=1)\n",
    "\n",
    "    return ans"
   ]
  },
  {
   "cell_type": "code",
   "execution_count": 76,
   "metadata": {},
   "outputs": [],
   "source": [
    "mapper = pickle.load(open('./data/mapper_between_index_and_label.pkl', 'rb'))\n",
    "\n",
    "raw_test_strings = pickle.load(open('./data/raw_test_strings.pkl', 'rb'))\n",
    "test_set = pickle.load(open('./data/test_set.pkl', 'rb'))\n",
    "test_labels = pickle.load(open('./data/test_labels.pkl', 'rb'))"
   ]
  },
  {
   "cell_type": "code",
   "execution_count": 77,
   "metadata": {},
   "outputs": [],
   "source": [
    "test_set = torch.from_numpy(np.array(test_set, dtype=np.float32))\n",
    "# tmp_sentence = copy.deepcopy(test_set[0])\n",
    "# tmp_sentence = tmp_sentence.unsqueeze(0)\n",
    "# tmp_sentence.shape"
   ]
  },
  {
   "cell_type": "code",
   "execution_count": 78,
   "metadata": {},
   "outputs": [],
   "source": [
    "def choose_one_for_test(index):\n",
    "\n",
    "    with torch.no_grad():\n",
    "        tmp_sentence = copy.deepcopy(test_set[index])\n",
    "        tmp_sentence = tmp_sentence.unsqueeze(0)\n",
    "        ans = predict_with_model(trained_model, tmp_sentence, device) \n",
    "\n",
    "    return raw_test_strings[index], mapper[test_labels[index]], mapper[ans]\n",
    "\n",
    "raw_strings = []\n",
    "true_labels = []\n",
    "predicted_labels = []\n",
    "example_number = 50\n",
    "\n",
    "for i in range(example_number):\n",
    "    raw_string, true_label, predicted_label = choose_one_for_test(i)\n",
    "    raw_strings.append(raw_string)\n",
    "    true_labels.append(true_label)\n",
    "    predicted_labels.append(predicted_label)"
   ]
  },
  {
   "cell_type": "code",
   "execution_count": 79,
   "metadata": {},
   "outputs": [],
   "source": [
    "# save the results as csv file\n",
    "with open('example_results.csv', 'w', newline='') as csvfile:\n",
    "    writer = csv.writer(csvfile)\n",
    "    writer.writerow(['raw_string', 'true_label', 'predicted_label'])\n",
    "    for i in range(example_number):\n",
    "        writer.writerow([raw_strings[i], true_labels[i], predicted_labels[i]])"
   ]
  },
  {
   "cell_type": "code",
   "execution_count": 1,
   "metadata": {},
   "outputs": [
    {
     "name": "stdout",
     "output_type": "stream",
     "text": [
      "the task of data classification is done!\n",
      "the results are saved as example_results.csv\n"
     ]
    }
   ],
   "source": [
    "print('the task of data classification is done!')\n",
    "print('the results are saved as example_results.csv')"
   ]
  },
  {
   "cell_type": "code",
   "execution_count": null,
   "metadata": {},
   "outputs": [],
   "source": []
  }
 ],
 "metadata": {
  "kernelspec": {
   "display_name": "zhds",
   "language": "python",
   "name": "python3"
  },
  "language_info": {
   "codemirror_mode": {
    "name": "ipython",
    "version": 3
   },
   "file_extension": ".py",
   "mimetype": "text/x-python",
   "name": "python",
   "nbconvert_exporter": "python",
   "pygments_lexer": "ipython3",
   "version": "3.8.0"
  }
 },
 "nbformat": 4,
 "nbformat_minor": 2
}
