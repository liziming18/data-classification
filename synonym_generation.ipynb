{
 "cells": [
  {
   "cell_type": "markdown",
   "metadata": {},
   "source": [
    "### This file is used to generate synonym word for a given word, so that we can generate data with better robust."
   ]
  },
  {
   "cell_type": "code",
   "execution_count": 1,
   "metadata": {},
   "outputs": [
    {
     "name": "stderr",
     "output_type": "stream",
     "text": [
      "[nltk_data] Downloading package wordnet to /Users/apple/nltk_data...\n",
      "[nltk_data]   Package wordnet is already up-to-date!\n"
     ]
    },
    {
     "data": {
      "text/plain": [
       "True"
      ]
     },
     "execution_count": 1,
     "metadata": {},
     "output_type": "execute_result"
    }
   ],
   "source": [
    "from nltk.corpus import wordnet\n",
    "import random\n",
    "\n",
    "# 下载wordnet数据\n",
    "import nltk\n",
    "nltk.download('wordnet')"
   ]
  },
  {
   "cell_type": "code",
   "execution_count": 5,
   "metadata": {},
   "outputs": [
    {
     "name": "stdout",
     "output_type": "stream",
     "text": [
      "here is the example word: height\n",
      "here are 5 related strings:\n",
      "['stature', 'elevation', 'acme', 'peak', 'altitude']\n"
     ]
    }
   ],
   "source": [
    "def get_synonyms(word):\n",
    "    synonyms = set()\n",
    "    for syn in wordnet.synsets(word):\n",
    "        for lemma in syn.lemmas():\n",
    "            synonyms.add(lemma.name())\n",
    "    \n",
    "    return list(synonyms)\n",
    "\n",
    "def generate_related_strings(word, num_strings=5):\n",
    "    synonyms = get_synonyms(word)\n",
    "    \n",
    "    # 如果没有找到同义词，则返回原词\n",
    "    if not synonyms:\n",
    "        return [word] * num_strings\n",
    "    \n",
    "    related_strings = []\n",
    "\n",
    "    for _ in range(num_strings):\n",
    "        synonym = random.choice(synonyms)\n",
    "        # randomly add a suffix to the synonym\n",
    "        structured_string = f\"{synonym}_\" if random.random() < 0.1 else synonym\n",
    "        related_strings.append(structured_string)\n",
    "    \n",
    "    return related_strings\n",
    "\n",
    "# example word\n",
    "print('here is the example word: height')\n",
    "given_word = 'height'\n",
    "\n",
    "# 生成与给定单词含义相近的字符串\n",
    "\n",
    "print('here are 5 related strings:')\n",
    "related_strings = generate_related_strings(given_word, num_strings=5)\n",
    "print(related_strings)"
   ]
  },
  {
   "cell_type": "code",
   "execution_count": null,
   "metadata": {},
   "outputs": [],
   "source": []
  }
 ],
 "metadata": {
  "kernelspec": {
   "display_name": "zhds",
   "language": "python",
   "name": "python3"
  },
  "language_info": {
   "codemirror_mode": {
    "name": "ipython",
    "version": 3
   },
   "file_extension": ".py",
   "mimetype": "text/x-python",
   "name": "python",
   "nbconvert_exporter": "python",
   "pygments_lexer": "ipython3",
   "version": "3.8.0"
  }
 },
 "nbformat": 4,
 "nbformat_minor": 2
}
