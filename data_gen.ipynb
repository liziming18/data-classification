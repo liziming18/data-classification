{
 "cells": [
  {
   "cell_type": "code",
   "execution_count": 1,
   "metadata": {},
   "outputs": [],
   "source": [
    "# copyright @ Ziming Li\n",
    "# version 1.0\n",
    "# This code is created alone by Ziming Li, a Ph.D student from Tsinghua University, China.\n",
    "# This code is for the final project of the my summer internship in Yunzhixin'an Technology Co., LTD, Zhengzhou, China.\n",
    "# If you have any questions, please contact me by email: lzm22@mails.tsinghua.edu.cn"
   ]
  },
  {
   "cell_type": "code",
   "execution_count": 1,
   "metadata": {},
   "outputs": [],
   "source": [
    "from faker import Faker\n",
    "import csv"
   ]
  },
  {
   "cell_type": "code",
   "execution_count": 2,
   "metadata": {},
   "outputs": [],
   "source": [
    "def generate_random_data(num_records, lang='en_US', file_name='fake_data.csv'):\n",
    "    fake = Faker(lang)  # English by default\n",
    "    data = []\n",
    "    for _ in range(num_records):\n",
    "        record = {\n",
    "            'Name': fake.name(),\n",
    "            'Age': fake.random_int(min=18, max=65),\n",
    "            'Gender': fake.random_element(elements=('Male', 'Female')),\n",
    "            'Sex': fake.random_element(elements=('M', 'F')),\n",
    "            'Ethnicity': fake.random_element(elements=('Caucasian', 'African American', 'Asian', 'Hispanic', 'Native American')),\n",
    "            'Birthday': fake.date_of_birth(tzinfo=None, minimum_age=18, maximum_age=65),\n",
    "            'Mobile Phone': fake.phone_number(),\n",
    "            'Address': fake.address(),\n",
    "            'Education Level': fake.random_element(elements=('High School', 'Associate', 'Bachelor', 'Master', 'Doctorate')),\n",
    "            'Social Security Number': fake.ssn(),\n",
    "            'Email Address': fake.email(),\n",
    "            'License Plate': fake.license_plate(),\n",
    "            'Website URL': fake.url(),\n",
    "            'Weight': fake.random_int(min=50, max=200),\n",
    "            'Height': fake.random_int(min=150, max=200),\n",
    "            'Blood Type': fake.random_element(elements=('A+', 'A-', 'B+', 'B-', 'AB+', 'AB-', 'O+', 'O-')),\n",
    "            'Occupation': fake.job(),\n",
    "            'Credit Card Number': fake.credit_card_number(card_type=None),\n",
    "            'Credit Card Expiry Date': fake.credit_card_expire(start='now', end='+10y', date_format='%m/%y'),\n",
    "            'Credit Card Security Code': fake.credit_card_security_code(card_type=None),\n",
    "            'Credit Card Provider': fake.credit_card_provider(card_type=None),\n",
    "            'Credit Card Full': fake.credit_card_full(card_type=None),\n",
    "        }\n",
    "\n",
    "        data.append(record)\n",
    "\n",
    "    # file name should be a string ending with .csv, error handling\n",
    "    if not file_name.endswith('.csv'):\n",
    "        raise ValueError('file_name should be a string ending with .csv')\n",
    "\n",
    "    csv_file = file_name\n",
    "    with open(csv_file, 'w', newline='', encoding='utf-8') as f:\n",
    "        writer = csv.DictWriter(f, fieldnames=data[0].keys())\n",
    "        writer.writeheader()\n",
    "        for record in data:\n",
    "            writer.writerow(record)\n",
    "        \n",
    "    return\n",
    "\n",
    "# 生成10条记录的数据\n",
    "num_records = 10000\n",
    "data = generate_random_data(num_records, file_name='raw_training_data.csv')\n"
   ]
  }
 ],
 "metadata": {
  "kernelspec": {
   "display_name": "zhds",
   "language": "python",
   "name": "python3"
  },
  "language_info": {
   "codemirror_mode": {
    "name": "ipython",
    "version": 3
   },
   "file_extension": ".py",
   "mimetype": "text/x-python",
   "name": "python",
   "nbconvert_exporter": "python",
   "pygments_lexer": "ipython3",
   "version": "3.8.0"
  }
 },
 "nbformat": 4,
 "nbformat_minor": 2
}
