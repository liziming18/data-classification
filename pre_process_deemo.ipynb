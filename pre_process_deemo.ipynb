{
 "cells": [
  {
   "cell_type": "code",
   "execution_count": null,
   "metadata": {},
   "outputs": [],
   "source": [
    "# copyright @ Ziming Li\n",
    "# version 1.0\n",
    "# This code is created alone by Ziming Li, a Ph.D student from Tsinghua University, China.\n",
    "# This code is for the final project of the my summer internship in Yunzhixin'an Technology Co., LTD, Zhengzhou, China.\n",
    "# If you have any questions, please contact me by email: lzm22@mails.tsinghua.edu.cn"
   ]
  },
  {
   "cell_type": "code",
   "execution_count": null,
   "metadata": {},
   "outputs": [],
   "source": [
    "import string\n",
    "import nltk\n",
    "from nltk.corpus import brown\n",
    "from gensim.models import Word2Vec\n",
    "from sklearn.decomposition import PCA\n",
    "from matplotlib import pyplot"
   ]
  },
  {
   "cell_type": "code",
   "execution_count": null,
   "metadata": {},
   "outputs": [],
   "source": [
    "nltk.download(\"brown\")\n",
    "document = brown.sents()"
   ]
  },
  {
   "cell_type": "code",
   "execution_count": null,
   "metadata": {},
   "outputs": [],
   "source": [
    "data = []\n",
    "for sent in document:\n",
    "  new_sent = []\n",
    "  for word in sent:\n",
    "    new_word = word.lower()\n",
    "    if new_word[0] not in string.punctuation:\n",
    "      new_sent.append(new_word)\n",
    "  if len(new_sent) > 0:\n",
    "    data.append(new_sent)"
   ]
  },
  {
   "cell_type": "code",
   "execution_count": null,
   "metadata": {},
   "outputs": [],
   "source": [
    "model = Word2Vec(\n",
    "    sentences = data,\n",
    "    vector_size = 50,\n",
    "    window = 10,\n",
    ")"
   ]
  },
  {
   "cell_type": "code",
   "execution_count": null,
   "metadata": {},
   "outputs": [],
   "source": [
    "data[1]"
   ]
  },
  {
   "cell_type": "code",
   "execution_count": null,
   "metadata": {},
   "outputs": [],
   "source": [
    "print(\"Vector for love:\")\n",
    "print(model.wv[\"love\"])"
   ]
  },
  {
   "cell_type": "code",
   "execution_count": null,
   "metadata": {},
   "outputs": [],
   "source": [
    "print(\"3 words similar to car\")\n",
    "words = model.wv.most_similar(\"car\", topn=3)\n",
    "for word in words:\n",
    "  print(word)"
   ]
  },
  {
   "cell_type": "code",
   "execution_count": null,
   "metadata": {},
   "outputs": [],
   "source": [
    "words = [\"france\", \"germany\", \"india\", \"china\", \"car\", \"truck\", \"boat\", \"road\", \"male\", \"female\", \"science\", \"history\"]\n",
    " \n",
    "X = model.wv[words]"
   ]
  },
  {
   "cell_type": "code",
   "execution_count": null,
   "metadata": {},
   "outputs": [],
   "source": [
    "pca = PCA(n_components=2)\n",
    "result = pca.fit_transform(X)\n",
    "\n",
    "pyplot.figure(figsize=(15,15))\n",
    "pyplot.scatter(result[:, 0], result[:, 1])\n",
    "pyplot.title(\"Word2Vec visualization\")\n",
    "for i, word in enumerate(words):\n",
    "    pyplot.annotate(word, xy=(result[i, 0], result[i, 1]))\n",
    "pyplot.show()\n",
    "print('similar words have similar vectors, so they are close to each other in the plot')"
   ]
  }
 ],
 "metadata": {
  "kernelspec": {
   "display_name": "zhds",
   "language": "python",
   "name": "python3"
  },
  "language_info": {
   "codemirror_mode": {
    "name": "ipython",
    "version": 3
   },
   "file_extension": ".py",
   "mimetype": "text/x-python",
   "name": "python",
   "nbconvert_exporter": "python",
   "pygments_lexer": "ipython3",
   "version": "3.8.0"
  }
 },
 "nbformat": 4,
 "nbformat_minor": 2
}
